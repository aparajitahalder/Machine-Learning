{
 "cells": [
  {
   "cell_type": "code",
   "execution_count": 4,
   "metadata": {},
   "outputs": [],
   "source": [
    "# NUMPY EXERCISE\n",
    "import numpy as np"
   ]
  },
  {
   "cell_type": "code",
   "execution_count": 17,
   "metadata": {},
   "outputs": [
    {
     "name": "stdout",
     "output_type": "stream",
     "text": [
      "[[1 2]\n",
      " [3 4]\n",
      " [5 6]\n",
      " [7 8]]\n",
      "(4, 2)\n",
      "2\n",
      "2\n"
     ]
    }
   ],
   "source": [
    "# Question 1: Create a 4X2 integer array and Prints its attributes\n",
    "# Note: element must be a type of unsigned int16. And print the following Attributes: –\n",
    "# The shape of an array.\n",
    "# Array dimensions.\n",
    "# The Length of each element of the array in bytes.\n",
    "\n",
    "a=np.empty([4,2],dtype=np.uint16)\n",
    "print(a)\n",
    "print(a.shape)\n",
    "print(a.ndim)\n",
    "print(a.itemsize)\n"
   ]
  },
  {
   "cell_type": "code",
   "execution_count": 24,
   "metadata": {},
   "outputs": [
    {
     "name": "stdout",
     "output_type": "stream",
     "text": [
      "[[100 110]\n",
      " [120 130]\n",
      " [140 150]\n",
      " [160 170]\n",
      " [180 190]]\n"
     ]
    }
   ],
   "source": [
    "# Create a 5X2 integer array from a range between 100 to 200 \n",
    "# such that the difference between each element is 10\n",
    "\n",
    "b=np.arange(100,200,10)\n",
    "print(b.reshape([5,2]))"
   ]
  },
  {
   "cell_type": "code",
   "execution_count": 27,
   "metadata": {},
   "outputs": [
    {
     "name": "stdout",
     "output_type": "stream",
     "text": [
      "[33 66 99]\n"
     ]
    }
   ],
   "source": [
    "# Return array of items in the third column from all rows\n",
    "\n",
    "sampleArray = np.array([[11 ,22, 33], [44, 55, 66], [77, 88, 99]])\n",
    "print(sampleArray[:,2])"
   ]
  },
  {
   "cell_type": "code",
   "execution_count": 29,
   "metadata": {},
   "outputs": [
    {
     "name": "stdout",
     "output_type": "stream",
     "text": [
      "[[22]\n",
      " [88]]\n"
     ]
    }
   ],
   "source": [
    "# Return array of odd rows and even columns\n",
    "\n",
    "sampleArray = np.array([[11 ,22, 33], [44, 55, 66], [77, 88, 99]])\n",
    "print(sampleArray[::2, 1::2])"
   ]
  },
  {
   "cell_type": "code",
   "execution_count": 33,
   "metadata": {},
   "outputs": [
    {
     "name": "stdout",
     "output_type": "stream",
     "text": [
      "[[4.47213595 6.244998   5.74456265]\n",
      " [5.         5.         5.29150262]]\n"
     ]
    }
   ],
   "source": [
    "# Add the following two NumPy arrays and \n",
    "# Modify a result array by calculating the square root of each element\n",
    "\n",
    "arrayOne = np.array([[5, 6, 9], [21 ,18, 27]])\n",
    "arrayTwo = np.array([[15 ,33, 24], [4 ,7, 1]])\n",
    "arrayThree=arrayOne+arrayTwo\n",
    "print(np.sqrt(arrayThree))"
   ]
  },
  {
   "cell_type": "code",
   "execution_count": 47,
   "metadata": {},
   "outputs": [
    {
     "name": "stdout",
     "output_type": "stream",
     "text": [
      "[[10 11 12]\n",
      " [13 14 15]\n",
      " [16 17 18]\n",
      " [19 20 21]\n",
      " [22 23 24]\n",
      " [25 26 27]\n",
      " [28 29 30]\n",
      " [31 32 33]]\n",
      "[array([[10, 11, 12],\n",
      "       [13, 14, 15]]), array([[16, 17, 18],\n",
      "       [19, 20, 21]]), array([[22, 23, 24],\n",
      "       [25, 26, 27]]), array([[28, 29, 30],\n",
      "       [31, 32, 33]])]\n"
     ]
    }
   ],
   "source": [
    "# Split the array into four equal-sized sub-arrays\n",
    "# Create an 8X3 integer array from a range between 10 to 34 \n",
    "# such that the difference between each element is 1 \n",
    "# and then Split the array into four equal-sized sub-arrays.\n",
    "\n",
    "a=np.arange(10,34,1)\n",
    "a=a.reshape(8,3)\n",
    "print(a)\n",
    "b=np.split(a,4)\n",
    "print(b)"
   ]
  },
  {
   "cell_type": "code",
   "execution_count": 58,
   "metadata": {},
   "outputs": [
    {
     "name": "stdout",
     "output_type": "stream",
     "text": [
      "[[73 43 34]\n",
      " [12 22 82]\n",
      " [66 94 53]]\n",
      "[[82 22 12]\n",
      " [34 43 73]\n",
      " [53 94 66]]\n"
     ]
    }
   ],
   "source": [
    "# Sort following NumPy array\n",
    "# 7.1- by the second row and\n",
    "# 7.2-by the second column\n",
    "\n",
    "a=np.array([[34,43,73],[82,22,12],[53,94,66]])\n",
    "b=a[:,a[1,:].argsort()]\n",
    "print(b)\n",
    "c=a[a[:,1].argsort()]\n",
    "print(c)"
   ]
  },
  {
   "cell_type": "code",
   "execution_count": 62,
   "metadata": {},
   "outputs": [
    {
     "name": "stdout",
     "output_type": "stream",
     "text": [
      "[82 94 73] [34 12 53]\n"
     ]
    }
   ],
   "source": [
    "# Print max from axis 0 and min from axis 1\n",
    "\n",
    "s = np.array([[34,43,73],[82,22,12],[53,94,66]])\n",
    "print(np.max(s,axis=0),np.min(s,axis=1))"
   ]
  },
  {
   "cell_type": "code",
   "execution_count": 71,
   "metadata": {},
   "outputs": [
    {
     "name": "stdout",
     "output_type": "stream",
     "text": [
      "[[34 73]\n",
      " [82 12]\n",
      " [53 66]]\n",
      "[[34 10 73]\n",
      " [82 10 12]\n",
      " [53 10 66]]\n"
     ]
    }
   ],
   "source": [
    "# Delete column two and insert new column in its place\n",
    "\n",
    "s = np.array([[34,43,73],[82,22,12],[53,94,66]]) \n",
    "n = np.array([[10,10,10]])\n",
    "s = np.delete(s,1,axis=1)\n",
    "print(s)\n",
    "s = np.insert(s,1,n,axis=1)\n",
    "print(s)"
   ]
  },
  {
   "cell_type": "code",
   "execution_count": 76,
   "metadata": {},
   "outputs": [
    {
     "data": {
      "image/png": "[encoded data removed]",
      "text/plain": [
       "<Figure size 432x288 with 1 Axes>"
      ]
     },
     "metadata": {
      "needs_background": "light"
     },
     "output_type": "display_data"
    }
   ],
   "source": [
    "# Create a two 2-D array and Plot it using matplotlib\n",
    "import matplotlib.pyplot as plt\n",
    "s = np.array([[34,43,73],[82,22,12],[53,94,66]]) \n",
    "plt.plot(s)\n",
    "plt.show()"
   ]
  }
 ],
 "metadata": {
  "kernelspec": {
   "display_name": "Python 3",
   "language": "python",
   "name": "python3"
  },
  "language_info": {
   "codemirror_mode": {
    "name": "ipython",
    "version": 3
   },
   "file_extension": ".py",
   "mimetype": "text/x-python",
   "name": "python",
   "nbconvert_exporter": "python",
   "pygments_lexer": "ipython3",
   "version": "3.7.3"
  }
 },
 "nbformat": 4,
 "nbformat_minor": 2
}
