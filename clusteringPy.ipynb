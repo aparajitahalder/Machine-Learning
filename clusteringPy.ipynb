{
 "cells": [
  {
   "cell_type": "code",
   "execution_count": 41,
   "metadata": {},
   "outputs": [
    {
     "data": {
      "image/png": "[encoded data removed]",
      "text/plain": [
       "<Figure size 432x288 with 1 Axes>"
      ]
     },
     "metadata": {
      "needs_background": "light"
     },
     "output_type": "display_data"
    },
    {
     "name": "stdout",
     "output_type": "stream",
     "text": [
      "[[10 11]\n",
      " [50 66]\n",
      " [11 13]\n",
      " [27 25]\n",
      " [16 12]\n",
      " [29 27]\n",
      " [55 53]\n",
      " [67 65]]\n",
      "Centroids :  [[57.33333333 61.33333333]\n",
      " [12.33333333 12.        ]\n",
      " [28.         26.        ]]\n",
      "Targets or labels :  [1 0 1 2 1 2 0 0]\n",
      "[[57.33333333 61.33333333]\n",
      " [12.33333333 12.        ]\n",
      " [28.         26.        ]]\n",
      "(3, 2)\n",
      "[57.33333333 12.33333333 28.        ]\n",
      "[61.33333333 12.         26.        ]\n"
     ]
    },
    {
     "data": {
      "image/png": "[encoded data removed]",
      "text/plain": [
       "<Figure size 432x288 with 1 Axes>"
      ]
     },
     "metadata": {
      "needs_background": "light"
     },
     "output_type": "display_data"
    }
   ],
   "source": [
    "#SIMPLEST kmeans\n",
    "\n",
    "import matplotlib.pyplot as plt\n",
    "x=[10,50,11,27,16,29,55,67]\n",
    "y=[11,66,13,25,12,27,53,65]\n",
    "plt.scatter(x,y)\n",
    "plt.show()\n",
    "import numpy as np\n",
    "data=np.column_stack((x,y)) #produces a stack columnwise\n",
    "print(data)\n",
    "from sklearn.cluster import KMeans\n",
    "model=KMeans(n_clusters=3) #seperate data in 3 cluster\n",
    "model.fit(data)  #we are fitting our data inside a model\n",
    "model.predict(data)\n",
    "#model.fit_predict(data) #combining above two steps in one step\n",
    "\n",
    "#Locations of the means geerated by the KMeans\n",
    "centroids=model.cluster_centers_\n",
    "print(\"Centroids : \",centroids)\n",
    "targets=model.labels_\n",
    "print(\"Targets or labels : \",targets)\n",
    "print(centroids)\n",
    "print(centroids.shape)\n",
    "print(centroids[:,0])\n",
    "print(centroids[:,1])\n",
    "plt.scatter(x,y)\n",
    "plt.scatter(x=centroids[:,0],y=centroids[:,1],marker='x')\n",
    "plt.show()"
   ]
  },
  {
   "cell_type": "code",
   "execution_count": 43,
   "metadata": {},
   "outputs": [
    {
     "name": "stdout",
     "output_type": "stream",
     "text": [
      "{1: [48, 74], 2: [16, 25], 3: [58, 26]}\n"
     ]
    },
    {
     "data": {
      "image/png": "[encoded data removed]",
      "text/plain": [
       "<Figure size 360x360 with 1 Axes>"
      ]
     },
     "metadata": {
      "needs_background": "light"
     },
     "output_type": "display_data"
    }
   ],
   "source": [
    "import pandas as pd\n",
    "import numpy as np\n",
    "import matplotlib.pyplot as plt\n",
    "df=pd.DataFrame({\n",
    "'x':[12,20,28,18,29,33,24,45,45,52,51,52,55,53,55,61,64,69,72],\n",
    "'y':[39,36,30,52,54,46,55,59,63,70,66,63,58,23,14,8,19,7,24]\n",
    "})\n",
    "np.random.seed(13) #in seed random value comes different when run again\n",
    "k=3\n",
    "# centroids[i]=[x,y]\n",
    "centroids={\n",
    "    i+1:[np.random.randint(0,80),np.random.randint(0,80)]\n",
    "    for i in range(k)\n",
    "}\n",
    "print(centroids)\n",
    "fig=plt.figure(figsize=(5,5))\n",
    "plt.scatter(df['x'],df['y'],color='k')\n",
    "colormap={1:'r',2:'g',3:'b'}\n",
    "for i in centroids.keys():\n",
    "    plt.scatter(*centroids[i],color=colormap[i])\n",
    "plt.xlim(0,80)\n",
    "plt.ylim(0,80)\n",
    "plt.show()"
   ]
  },
  {
   "cell_type": "code",
   "execution_count": 92,
   "metadata": {},
   "outputs": [
    {
     "name": "stdout",
     "output_type": "stream",
     "text": [
      "    x   y  distance_from_1  distance_from_2  distance_from_3  closest color\n",
      "0  12  39        50.209561        14.560220        47.801674        2     g\n",
      "1  20  36        47.201695        11.704700        39.293765        2     g\n",
      "2  28  30        48.332184        13.000000        30.265492        2     g\n",
      "3  18  52        37.202150        27.073973        47.707442        2     g\n",
      "4  29  54        27.586228        31.780497        40.311289        1     r\n"
     ]
    }
   ],
   "source": [
    "\n",
    "def assignment(df,centroids):\n",
    "    for i in centroids.keys():\n",
    "        # sqrt((x1-x2)^2-(y1-y2)^2)\n",
    "        df['distance_from_{}'.format(i)]=(\n",
    "           np.sqrt(\n",
    "              (df['x']-centroids[i][0])**2 + (df['y']-centroids[i][1])**2\n",
    "             )\n",
    "        )\n",
    "    centroid_distance_cols=['distance_from_{}'.format(i) for i  in centroids.keys()]\n",
    "    df['closest']=df.loc[:,centroid_distance_cols].idxmin(axis=1)\n",
    "    df['closest']=df['closest'].map(lambda x: int(x.lstrip('distance_from_')))\n",
    "    df['color']=df['closest'].map(lambda x: colormap[x])\n",
    "    return df\n",
    "\n",
    "    \n",
    "df = assignment(df,centroids)\n",
    "print(df.head())\n",
    "\n",
    "\n",
    "        \n"
   ]
  },
  {
   "cell_type": "code",
   "execution_count": 99,
   "metadata": {},
   "outputs": [
    {
     "data": {
      "image/png": "[encoded data removed]",
      "text/plain": [
       "<Figure size 432x288 with 1 Axes>"
      ]
     },
     "metadata": {
      "needs_background": "light"
     },
     "output_type": "display_data"
    },
    {
     "name": "stdout",
     "output_type": "stream",
     "text": [
      "[[12 39]\n",
      " [20 36]\n",
      " [28 30]\n",
      " [18 52]\n",
      " [29 54]\n",
      " [33 46]\n",
      " [24 55]\n",
      " [45 59]\n",
      " [45 63]\n",
      " [52 70]\n",
      " [51 66]\n",
      " [52 63]\n",
      " [55 58]\n",
      " [53 23]\n",
      " [55 14]\n",
      " [61  8]\n",
      " [64 19]\n",
      " [69  7]\n",
      " [72 24]]\n",
      "Centroids :  [[62.33333333 15.83333333]\n",
      " [35.69230769 53.15384615]]\n",
      "Targets or labels :  [1 1 1 1 1 1 1 1 1 1 1 1 1 0 0 0 0 0 0]\n",
      "[[62.33333333 15.83333333]\n",
      " [35.69230769 53.15384615]]\n",
      "(2, 2)\n"
     ]
    },
    {
     "data": {
      "image/png": "[encoded data removed]",
      "text/plain": [
       "<Figure size 432x288 with 1 Axes>"
      ]
     },
     "metadata": {
      "needs_background": "light"
     },
     "output_type": "display_data"
    }
   ],
   "source": [
    "# Above dataset by kmeans\n",
    "import matplotlib.pyplot as plt\n",
    "\n",
    "x=[12,20,28,18,29,33,24,45,45,52,51,52,55,53,55,61,64,69,72]\n",
    "y=[39,36,30,52,54,46,55,59,63,70,66,63,58,23,14,8,19,7,24]\n",
    "plt.scatter(x,y)\n",
    "plt.show()\n",
    "import numpy as np\n",
    "data=np.column_stack((x,y)) #produces a stack columnwise\n",
    "print(data)\n",
    "from sklearn.cluster import KMeans\n",
    "model=KMeans(n_clusters=3) #seperate data in 3 cluster\n",
    "model.fit(data)  #we are fitting our data inside a model\n",
    "model.predict(data)\n",
    "#model.fit_predict(data) #combining above two steps in one step\n",
    "\n",
    "#Locations of the means geerated by the KMeans\n",
    "centroids=model.cluster_centers_\n",
    "print(\"Centroids : \",centroids)\n",
    "targets=model.labels_\n",
    "print(\"Targets or labels : \",targets)\n",
    "print(centroids)\n",
    "print(centroids.shape)\n",
    "#print(centroids[:,0])\n",
    "#print(centroids[:,1])\n",
    "plt.scatter(x,y)\n",
    "plt.scatter(x=centroids[:,0],y=centroids[:,1],marker='x')\n",
    "plt.show()"
   ]
  },
  {
   "cell_type": "code",
   "execution_count": 203,
   "metadata": {},
   "outputs": [
    {
     "data": {
      "image/png": "[encoded data removed]",
      "text/plain": [
       "<Figure size 432x288 with 1 Axes>"
      ]
     },
     "metadata": {
      "needs_background": "light"
     },
     "output_type": "display_data"
    },
    {
     "name": "stdout",
     "output_type": "stream",
     "text": [
      "[[5.1 3.5 1.4 0.2]\n",
      " [4.9 3.  1.4 0.2]\n",
      " [4.7 3.2 1.3 0.2]\n",
      " [4.6 3.1 1.5 0.2]\n",
      " [5.  3.6 1.4 0.2]\n",
      " [5.4 3.9 1.7 0.4]\n",
      " [4.6 3.4 1.4 0.3]\n",
      " [5.  3.4 1.5 0.2]\n",
      " [4.4 2.9 1.4 0.2]\n",
      " [4.9 3.1 1.5 0.1]\n",
      " [5.4 3.7 1.5 0.2]\n",
      " [4.8 3.4 1.6 0.2]\n",
      " [4.8 3.  1.4 0.1]\n",
      " [4.3 3.  1.1 0.1]\n",
      " [5.8 4.  1.2 0.2]\n",
      " [5.7 4.4 1.5 0.4]\n",
      " [5.4 3.9 1.3 0.4]\n",
      " [5.1 3.5 1.4 0.3]\n",
      " [5.7 3.8 1.7 0.3]\n",
      " [5.1 3.8 1.5 0.3]\n",
      " [5.4 3.4 1.7 0.2]\n",
      " [5.1 3.7 1.5 0.4]\n",
      " [4.6 3.6 1.  0.2]\n",
      " [5.1 3.3 1.7 0.5]\n",
      " [4.8 3.4 1.9 0.2]\n",
      " [5.  3.  1.6 0.2]\n",
      " [5.  3.4 1.6 0.4]\n",
      " [5.2 3.5 1.5 0.2]\n",
      " [5.2 3.4 1.4 0.2]\n",
      " [4.7 3.2 1.6 0.2]\n",
      " [4.8 3.1 1.6 0.2]\n",
      " [5.4 3.4 1.5 0.4]\n",
      " [5.2 4.1 1.5 0.1]\n",
      " [5.5 4.2 1.4 0.2]\n",
      " [4.9 3.1 1.5 0.2]\n",
      " [5.  3.2 1.2 0.2]\n",
      " [5.5 3.5 1.3 0.2]\n",
      " [4.9 3.6 1.4 0.1]\n",
      " [4.4 3.  1.3 0.2]\n",
      " [5.1 3.4 1.5 0.2]\n",
      " [5.  3.5 1.3 0.3]\n",
      " [4.5 2.3 1.3 0.3]\n",
      " [4.4 3.2 1.3 0.2]\n",
      " [5.  3.5 1.6 0.6]\n",
      " [5.1 3.8 1.9 0.4]\n",
      " [4.8 3.  1.4 0.3]\n",
      " [5.1 3.8 1.6 0.2]\n",
      " [4.6 3.2 1.4 0.2]\n",
      " [5.3 3.7 1.5 0.2]\n",
      " [5.  3.3 1.4 0.2]\n",
      " [7.  3.2 4.7 1.4]\n",
      " [6.4 3.2 4.5 1.5]\n",
      " [6.9 3.1 4.9 1.5]\n",
      " [5.5 2.3 4.  1.3]\n",
      " [6.5 2.8 4.6 1.5]\n",
      " [5.7 2.8 4.5 1.3]\n",
      " [6.3 3.3 4.7 1.6]\n",
      " [4.9 2.4 3.3 1. ]\n",
      " [6.6 2.9 4.6 1.3]\n",
      " [5.2 2.7 3.9 1.4]\n",
      " [5.  2.  3.5 1. ]\n",
      " [5.9 3.  4.2 1.5]\n",
      " [6.  2.2 4.  1. ]\n",
      " [6.1 2.9 4.7 1.4]\n",
      " [5.6 2.9 3.6 1.3]\n",
      " [6.7 3.1 4.4 1.4]\n",
      " [5.6 3.  4.5 1.5]\n",
      " [5.8 2.7 4.1 1. ]\n",
      " [6.2 2.2 4.5 1.5]\n",
      " [5.6 2.5 3.9 1.1]\n",
      " [5.9 3.2 4.8 1.8]\n",
      " [6.1 2.8 4.  1.3]\n",
      " [6.3 2.5 4.9 1.5]\n",
      " [6.1 2.8 4.7 1.2]\n",
      " [6.4 2.9 4.3 1.3]\n",
      " [6.6 3.  4.4 1.4]\n",
      " [6.8 2.8 4.8 1.4]\n",
      " [6.7 3.  5.  1.7]\n",
      " [6.  2.9 4.5 1.5]\n",
      " [5.7 2.6 3.5 1. ]\n",
      " [5.5 2.4 3.8 1.1]\n",
      " [5.5 2.4 3.7 1. ]\n",
      " [5.8 2.7 3.9 1.2]\n",
      " [6.  2.7 5.1 1.6]\n",
      " [5.4 3.  4.5 1.5]\n",
      " [6.  3.4 4.5 1.6]\n",
      " [6.7 3.1 4.7 1.5]\n",
      " [6.3 2.3 4.4 1.3]\n",
      " [5.6 3.  4.1 1.3]\n",
      " [5.5 2.5 4.  1.3]\n",
      " [5.5 2.6 4.4 1.2]\n",
      " [6.1 3.  4.6 1.4]\n",
      " [5.8 2.6 4.  1.2]\n",
      " [5.  2.3 3.3 1. ]\n",
      " [5.6 2.7 4.2 1.3]\n",
      " [5.7 3.  4.2 1.2]\n",
      " [5.7 2.9 4.2 1.3]\n",
      " [6.2 2.9 4.3 1.3]\n",
      " [5.1 2.5 3.  1.1]\n",
      " [5.7 2.8 4.1 1.3]\n",
      " [6.3 3.3 6.  2.5]\n",
      " [5.8 2.7 5.1 1.9]\n",
      " [7.1 3.  5.9 2.1]\n",
      " [6.3 2.9 5.6 1.8]\n",
      " [6.5 3.  5.8 2.2]\n",
      " [7.6 3.  6.6 2.1]\n",
      " [4.9 2.5 4.5 1.7]\n",
      " [7.3 2.9 6.3 1.8]\n",
      " [6.7 2.5 5.8 1.8]\n",
      " [7.2 3.6 6.1 2.5]\n",
      " [6.5 3.2 5.1 2. ]\n",
      " [6.4 2.7 5.3 1.9]\n",
      " [6.8 3.  5.5 2.1]\n",
      " [5.7 2.5 5.  2. ]\n",
      " [5.8 2.8 5.1 2.4]\n",
      " [6.4 3.2 5.3 2.3]\n",
      " [6.5 3.  5.5 1.8]\n",
      " [7.7 3.8 6.7 2.2]\n",
      " [7.7 2.6 6.9 2.3]\n",
      " [6.  2.2 5.  1.5]\n",
      " [6.9 3.2 5.7 2.3]\n",
      " [5.6 2.8 4.9 2. ]\n",
      " [7.7 2.8 6.7 2. ]\n",
      " [6.3 2.7 4.9 1.8]\n",
      " [6.7 3.3 5.7 2.1]\n",
      " [7.2 3.2 6.  1.8]\n",
      " [6.2 2.8 4.8 1.8]\n",
      " [6.1 3.  4.9 1.8]\n",
      " [6.4 2.8 5.6 2.1]\n",
      " [7.2 3.  5.8 1.6]\n",
      " [7.4 2.8 6.1 1.9]\n",
      " [7.9 3.8 6.4 2. ]\n",
      " [6.4 2.8 5.6 2.2]\n",
      " [6.3 2.8 5.1 1.5]\n",
      " [6.1 2.6 5.6 1.4]\n",
      " [7.7 3.  6.1 2.3]\n",
      " [6.3 3.4 5.6 2.4]\n",
      " [6.4 3.1 5.5 1.8]\n",
      " [6.  3.  4.8 1.8]\n",
      " [6.9 3.1 5.4 2.1]\n",
      " [6.7 3.1 5.6 2.4]\n",
      " [6.9 3.1 5.1 2.3]\n",
      " [5.8 2.7 5.1 1.9]\n",
      " [6.8 3.2 5.9 2.3]\n",
      " [6.7 3.3 5.7 2.5]\n",
      " [6.7 3.  5.2 2.3]\n",
      " [6.3 2.5 5.  1.9]\n",
      " [6.5 3.  5.2 2. ]\n",
      " [6.2 3.4 5.4 2.3]\n",
      " [5.9 3.  5.1 1.8]]\n",
      "Centroids :  [[5.006      3.428      1.462      0.246     ]\n",
      " [5.9016129  2.7483871  4.39354839 1.43387097]\n",
      " [6.85       3.07368421 5.74210526 2.07105263]]\n",
      "Targets or labels :  [0 0 0 0 0 0 0 0 0 0 0 0 0 0 0 0 0 0 0 0 0 0 0 0 0 0 0 0 0 0 0 0 0 0 0 0 0\n",
      " 0 0 0 0 0 0 0 0 0 0 0 0 0 1 1 2 1 1 1 1 1 1 1 1 1 1 1 1 1 1 1 1 1 1 1 1 1\n",
      " 1 1 1 2 1 1 1 1 1 1 1 1 1 1 1 1 1 1 1 1 1 1 1 1 1 1 2 1 2 2 2 2 1 2 2 2 2\n",
      " 2 2 1 1 2 2 2 2 1 2 1 2 1 2 2 1 1 2 2 2 2 2 1 2 2 2 2 1 2 2 2 1 2 2 2 1 2\n",
      " 2 1]\n",
      "[[5.006      3.428      1.462      0.246     ]\n",
      " [5.9016129  2.7483871  4.39354839 1.43387097]\n",
      " [6.85       3.07368421 5.74210526 2.07105263]]\n",
      "(3, 4)\n"
     ]
    },
    {
     "data": {
      "image/png": "[encoded data removed]",
      "text/plain": [
       "<Figure size 432x288 with 1 Axes>"
      ]
     },
     "metadata": {
      "needs_background": "light"
     },
     "output_type": "display_data"
    }
   ],
   "source": [
    "#IRIS DATA\n",
    "\n",
    "import pandas as pd\n",
    "import sklearn\n",
    "import matplotlib.pyplot as plt\n",
    "from sklearn.metrics import mean_squared_error, r2_score\n",
    "from sklearn.datasets import load_iris \n",
    "import random\n",
    "\n",
    "iris=load_iris()\n",
    "ir=pd.DataFrame(iris.data)\n",
    "ir[4]=iris.target\n",
    "#print(ir.head(100))\n",
    "#ir.columns=ir.feature_names\n",
    "x=ir.iloc[:,0].values #iloc retrieves data from dataframe\n",
    "y=ir.iloc[:,1].values\n",
    "z=ir.iloc[:,2].values #iloc retrieves data from dataframe\n",
    "w=ir.iloc[:,3].values\n",
    "plt.scatter(x,y,z,w)\n",
    "plt.show()\n",
    "import numpy as np\n",
    "data=np.column_stack((x,y,z,w)) #produces a stack columnwise\n",
    "print(data)\n",
    "from sklearn.cluster import KMeans\n",
    "model=KMeans(n_clusters=3) #seperate data in 2 cluster\n",
    "model.fit(data)  #we are fitting our data inside a model\n",
    "model.predict(data)\n",
    "#model.fit_predict(data) #combining above two steps in one step\n",
    "\n",
    "#Locations of the means geerated by the KMeans\n",
    "centroids=model.cluster_centers_\n",
    "print(\"Centroids : \",centroids)\n",
    "targets=model.labels_\n",
    "print(\"Targets or labels : \",targets)\n",
    "print(centroids)\n",
    "print(centroids.shape)\n",
    "#print(centroids[:,0])\n",
    "#print(centroids[:,1])\n",
    "plt.scatter(x,y,z,w)\n",
    "plt.scatter(x=centroids[:,0],y=centroids[:,1],marker='x')\n",
    "plt.show()"
   ]
  },
  {
   "cell_type": "code",
   "execution_count": 1,
   "metadata": {},
   "outputs": [
    {
     "ename": "NameError",
     "evalue": "name 'plt' is not defined",
     "output_type": "error",
     "traceback": [
      "\u001b[1;31m---------------------------------------------------------------------------\u001b[0m",
      "\u001b[1;31mNameError\u001b[0m                                 Traceback (most recent call last)",
      "\u001b[1;32m<ipython-input-1-dd7a5feae612>\u001b[0m in \u001b[0;36m<module>\u001b[1;34m\u001b[0m\n\u001b[0;32m     17\u001b[0m \u001b[1;31m#print(x)\u001b[0m\u001b[1;33m\u001b[0m\u001b[1;33m\u001b[0m\u001b[1;33m\u001b[0m\u001b[0m\n\u001b[0;32m     18\u001b[0m \u001b[1;31m#print(y)\u001b[0m\u001b[1;33m\u001b[0m\u001b[1;33m\u001b[0m\u001b[1;33m\u001b[0m\u001b[0m\n\u001b[1;32m---> 19\u001b[1;33m \u001b[0mplt\u001b[0m\u001b[1;33m.\u001b[0m\u001b[0mscatter\u001b[0m\u001b[1;33m(\u001b[0m\u001b[0mx\u001b[0m\u001b[1;33m,\u001b[0m\u001b[0my\u001b[0m\u001b[1;33m)\u001b[0m\u001b[1;33m\u001b[0m\u001b[1;33m\u001b[0m\u001b[0m\n\u001b[0m\u001b[0;32m     20\u001b[0m \u001b[0mplt\u001b[0m\u001b[1;33m.\u001b[0m\u001b[0mshow\u001b[0m\u001b[1;33m(\u001b[0m\u001b[1;33m)\u001b[0m\u001b[1;33m\u001b[0m\u001b[1;33m\u001b[0m\u001b[0m\n\u001b[0;32m     21\u001b[0m \u001b[1;32mimport\u001b[0m \u001b[0mnumpy\u001b[0m \u001b[1;32mas\u001b[0m \u001b[0mnp\u001b[0m\u001b[1;33m\u001b[0m\u001b[1;33m\u001b[0m\u001b[0m\n",
      "\u001b[1;31mNameError\u001b[0m: name 'plt' is not defined"
     ]
    }
   ],
   "source": [
    "#DRIVER DATA\n",
    "\n",
    "filename = \"driver.txt\"\n",
    "mynumbers = []\n",
    "count=0\n",
    "x=list()\n",
    "y=list()\n",
    "with open(filename) as f:\n",
    "    for line in f:\n",
    "        if count!=0:\n",
    "            mynumbers.append([float(n) for n in line.strip().split('\\t')])\n",
    "        count=1\n",
    "    for pair in mynumbers:\n",
    "        x.append(pair[1])\n",
    "        y.append(pair[2])\n",
    "        \n",
    "#print(x)\n",
    "#print(y)\n",
    "plt.scatter(x,y)\n",
    "plt.show()\n",
    "import numpy as np\n",
    "data=np.column_stack((x,y)) #produces a stack columnwise\n",
    "print(data)\n",
    "from sklearn.cluster import KMeans\n",
    "model=KMeans(n_clusters=4) #seperate data in 2 cluster\n",
    "model.fit(data)  #we are fitting our data inside a model\n",
    "model.predict(data)\n",
    "#model.fit_predict(data) #combining above two steps in one step\n",
    "\n",
    "#Locations of the means geerated by the KMeans\n",
    "centroids=model.cluster_centers_\n",
    "print(\"Centroids : \",centroids)\n",
    "targets=model.labels_\n",
    "print(\"Targets or labels : \",targets)\n",
    "print(centroids)\n",
    "print(centroids.shape)\n",
    "#print(centroids[:,0])\n",
    "#print(centroids[:,1])\n",
    "plt.scatter(x,y)\n",
    "plt.scatter(x=centroids[:,0],y=centroids[:,1],marker='x')\n",
    "plt.show()\n",
    "    \n",
    "        \n",
    "        \n",
    "    "
   ]
  }
 ],
 "metadata": {
  "kernelspec": {
   "display_name": "Python 3",
   "language": "python",
   "name": "python3"
  },
  "language_info": {
   "codemirror_mode": {
    "name": "ipython",
    "version": 3
   },
   "file_extension": ".py",
   "mimetype": "text/x-python",
   "name": "python",
   "nbconvert_exporter": "python",
   "pygments_lexer": "ipython3",
   "version": "3.7.3"
  }
 },
 "nbformat": 4,
 "nbformat_minor": 2
}
