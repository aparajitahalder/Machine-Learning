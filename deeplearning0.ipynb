{
 "cells": [
  {
   "cell_type": "markdown",
   "metadata": {},
   "source": [
    "# Basic Mathematics for Deep Learning "
   ]
  },
  {
   "cell_type": "markdown",
   "metadata": {},
   "source": [
    "# Gradient Descent  \n",
    "It's a techniwue which finds local minima for our error.\n",
    "We find a graph such that it tells us how far we are from our actual value.\n",
    "We slowly converge towards the minima such that it produces less errors as per our learning rate.\n",
    "The learning rate should neither be less nor be more as it may converge too slowly or may overshoot as well.\n",
    "It was believed that local minima would be a problem for AI but in actual practice we don't get two minima's or a local minima, hence it's not that big problem."
   ]
  },
  {
   "cell_type": "markdown",
   "metadata": {},
   "source": [
    "# Autodiff\n",
    "Gradient Descent requires knowledge of the gradient of your cost function(MSE).\n",
    "Mathematically we need the first partial derivatives of all the inputs. It will be hard and inefficient if we throw calculus at the problem. \n",
    "By doing brute force attack to gradiet descent, it speeds up the process.\n",
    "Specifically we use reverse auto_diff method.\n",
    "It can compute al the partial derivatives we need by traversing the graph in all partial derivat of outputs + 1 you have.\n",
    "This works well in nueron network because in nueron network we have many inputs and possibly one or very few outputs.\n"
   ]
  },
  {
   "cell_type": "code",
   "execution_count": null,
   "metadata": {},
   "outputs": [],
   "source": [
    "# Softmax\n",
    "Converts each of the weights that come out of neural network into probablity."
   ]
  }
 ],
 "metadata": {
  "kernelspec": {
   "display_name": "Python 3",
   "language": "python",
   "name": "python3"
  },
  "language_info": {
   "codemirror_mode": {
    "name": "ipython",
    "version": 3
   },
   "file_extension": ".py",
   "mimetype": "text/x-python",
   "name": "python",
   "nbconvert_exporter": "python",
   "pygments_lexer": "ipython3",
   "version": "3.7.3"
  }
 },
 "nbformat": 4,
 "nbformat_minor": 2
}
